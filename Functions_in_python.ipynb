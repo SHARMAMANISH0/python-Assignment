{
  "nbformat": 4,
  "nbformat_minor": 0,
  "metadata": {
    "colab": {
      "provenance": []
    },
    "kernelspec": {
      "name": "python3",
      "display_name": "Python 3"
    },
    "language_info": {
      "name": "python"
    }
  },
  "cells": [
    {
      "cell_type": "code",
      "execution_count": 1,
      "metadata": {
        "id": "9B85yNMCyCCW"
      },
      "outputs": [],
      "source": [
        "# function is Name Block\n",
        "# Block of code that ve can run any time\n"
      ]
    },
    {
      "cell_type": "markdown",
      "source": [
        "**Function Declaration**"
      ],
      "metadata": {
        "id": "woFvS4P-zTst"
      }
    },
    {
      "cell_type": "code",
      "source": [
        "def func():\n",
        "  print(\"hello manish\")\n",
        "\n",
        "func()"
      ],
      "metadata": {
        "colab": {
          "base_uri": "https://localhost:8080/"
        },
        "id": "ZrxDOZRly32l",
        "outputId": "7b86631a-ff07-46a5-ea1b-53a7fd631b96"
      },
      "execution_count": 2,
      "outputs": [
        {
          "output_type": "stream",
          "name": "stdout",
          "text": [
            "hello manish\n"
          ]
        }
      ]
    },
    {
      "cell_type": "markdown",
      "source": [
        "**Input Fuction**"
      ],
      "metadata": {
        "id": "2mP0dmmC10CR"
      }
    },
    {
      "cell_type": "code",
      "source": [
        "def greeting():\n",
        "  name=input(\"enter your name \")\n",
        "  print(\"hello\",name)\n",
        "greeting()"
      ],
      "metadata": {
        "colab": {
          "base_uri": "https://localhost:8080/"
        },
        "id": "gCEFJhiYy34V",
        "outputId": "7bc0a8f3-19f2-40e1-f814-b0c6b128c2d5"
      },
      "execution_count": 4,
      "outputs": [
        {
          "output_type": "stream",
          "name": "stdout",
          "text": [
            "enter your namemanish\n",
            "hello manish\n"
          ]
        }
      ]
    },
    {
      "cell_type": "markdown",
      "source": [
        "**Function parameter Argument**"
      ],
      "metadata": {
        "id": "j7qcRGda2DYb"
      }
    },
    {
      "cell_type": "code",
      "source": [
        "def man(username):\n",
        "  print(\"hello\",username)\n",
        "man(\"manish\")"
      ],
      "metadata": {
        "colab": {
          "base_uri": "https://localhost:8080/"
        },
        "id": "0pjogyzMy37Q",
        "outputId": "e3d5e0ce-2da6-49c9-e855-609a6ad24013"
      },
      "execution_count": 5,
      "outputs": [
        {
          "output_type": "stream",
          "name": "stdout",
          "text": [
            "hello manish\n"
          ]
        }
      ]
    },
    {
      "cell_type": "markdown",
      "source": [
        "**Function varable Addition num**"
      ],
      "metadata": {
        "id": "BvuOwYIW3DVG"
      }
    },
    {
      "cell_type": "code",
      "source": [
        "def add(num1,num2):\n",
        "  print(num1+num2)\n",
        "add(10,20)"
      ],
      "metadata": {
        "colab": {
          "base_uri": "https://localhost:8080/"
        },
        "id": "JDy2axyGy4E_",
        "outputId": "72d86db4-1c61-47db-b203-c93edc8f9865"
      },
      "execution_count": 6,
      "outputs": [
        {
          "output_type": "stream",
          "name": "stdout",
          "text": [
            "30\n"
          ]
        }
      ]
    },
    {
      "cell_type": "code",
      "source": [
        "def func():\n",
        "  print(\"Inside function\",x+10)\n",
        "  # Inside varible use\n",
        "x=10\n",
        "func()\n",
        "print(\"After function\",x)"
      ],
      "metadata": {
        "colab": {
          "base_uri": "https://localhost:8080/"
        },
        "id": "qERWiJDjy4IE",
        "outputId": "bf4c0956-cb40-4473-defd-5eed6f778af5"
      },
      "execution_count": 9,
      "outputs": [
        {
          "output_type": "stream",
          "name": "stdout",
          "text": [
            "Inside function 20\n",
            "After function 10\n"
          ]
        }
      ]
    },
    {
      "cell_type": "markdown",
      "source": [
        "**Globle varible Function**"
      ],
      "metadata": {
        "id": "iEPavT9-4d8l"
      }
    },
    {
      "cell_type": "code",
      "source": [
        "def AgeAddd():\n",
        "  global age\n",
        "  age=20\n",
        "  print(\"Inside Function\",age)\n",
        "AgeAddd()\n",
        "print(\"Out side function\",age)"
      ],
      "metadata": {
        "colab": {
          "base_uri": "https://localhost:8080/"
        },
        "id": "FInl5kTp4f29",
        "outputId": "36ffff5e-7456-47f5-83c2-b5ead23a3e8f"
      },
      "execution_count": 11,
      "outputs": [
        {
          "output_type": "stream",
          "name": "stdout",
          "text": [
            "Inside Function 20\n",
            "Out side function 20\n"
          ]
        }
      ]
    },
    {
      "cell_type": "markdown",
      "source": [
        "**conditional Function**"
      ],
      "metadata": {
        "id": "bshMePcu5VWY"
      }
    },
    {
      "cell_type": "code",
      "source": [
        "def num(n):\n",
        "  if n%2==0:\n",
        "    print(\"True\")\n",
        "  else:\n",
        "    print(\"Fasle\")\n",
        "n=int(input(\"enter number \"))\n",
        "num(n)"
      ],
      "metadata": {
        "colab": {
          "base_uri": "https://localhost:8080/"
        },
        "id": "Uy71jaGsy4Ln",
        "outputId": "1dbe5ff6-ae74-4704-eeb6-ccfc936032c9"
      },
      "execution_count": 17,
      "outputs": [
        {
          "output_type": "stream",
          "name": "stdout",
          "text": [
            "enter number50\n",
            "True\n"
          ]
        }
      ]
    },
    {
      "cell_type": "markdown",
      "source": [
        "**Type of parameter and argument**"
      ],
      "metadata": {
        "id": "NSu_aXFM6WSH"
      }
    },
    {
      "cell_type": "code",
      "source": [
        "# Type of parameter passing and argument:\n",
        "# 1. Required parameter and argument\n",
        "# 2. Keyword parameter and argument\n",
        "# 3. Default parameter and argument\n",
        "# 4. Variable length parameter and argument"
      ],
      "metadata": {
        "id": "9WXzGq2Dy4Oi"
      },
      "execution_count": null,
      "outputs": []
    },
    {
      "cell_type": "code",
      "source": [
        "def employee(eid,ename,email):\n",
        "  print(f\"Eid:{eid},Ename:{ename},Email:{email}\")\n",
        "employee(101,\"manish\",\"manish@gmail.com\")"
      ],
      "metadata": {
        "colab": {
          "base_uri": "https://localhost:8080/"
        },
        "id": "9x3v44Gyy4Rq",
        "outputId": "470aafba-f77c-412e-cb51-7b181dabe7da"
      },
      "execution_count": 21,
      "outputs": [
        {
          "output_type": "stream",
          "name": "stdout",
          "text": [
            "Eid:101,Ename:manish,Email:manish@gmail.com\n"
          ]
        }
      ]
    },
    {
      "cell_type": "markdown",
      "source": [
        "**# positional Argumen**t"
      ],
      "metadata": {
        "id": "gCetkaIl9AMC"
      }
    },
    {
      "cell_type": "code",
      "source": [
        "\n",
        "def employee(eid,ename,email):\n",
        "  print(f\"Eid:{eid},Ename:{ename},Email:{email}\")\n",
        "employee(\"manish\",\"101\",\"manish@gmail.com\")"
      ],
      "metadata": {
        "colab": {
          "base_uri": "https://localhost:8080/"
        },
        "id": "_ZBRJvTly4X4",
        "outputId": "6c3da511-d34a-4c82-cfae-9e6588dd5708"
      },
      "execution_count": 23,
      "outputs": [
        {
          "output_type": "stream",
          "name": "stdout",
          "text": [
            "Eid:manish,Ename:101,Email:manish@gmail.com\n"
          ]
        }
      ]
    },
    {
      "cell_type": "markdown",
      "source": [
        "**# Keyword argument**"
      ],
      "metadata": {
        "id": "wZknYGv89I23"
      }
    },
    {
      "cell_type": "code",
      "source": [
        "\n",
        "def employee(eid,ename,email):\n",
        "  print(f\"Eid:{eid},Ename:{ename},Email:{email}\")\n",
        "employee(eid=\"101\",ename=\"manish\",email=\"manish@gmail.com\")"
      ],
      "metadata": {
        "colab": {
          "base_uri": "https://localhost:8080/"
        },
        "id": "GCiWitb2y4Zb",
        "outputId": "e5846e15-7564-4db9-cb26-3b948fdf5928"
      },
      "execution_count": 22,
      "outputs": [
        {
          "output_type": "stream",
          "name": "stdout",
          "text": [
            "Eid:101,Ename:manish,Email:manish@gmail.com\n"
          ]
        }
      ]
    },
    {
      "cell_type": "markdown",
      "source": [
        "**Defclut argument**"
      ],
      "metadata": {
        "id": "SuYul-x39tKU"
      }
    },
    {
      "cell_type": "code",
      "source": [
        "\n",
        "def employee(eid,ename,email=\"manish@gmail.com\"):\n",
        "  print(f\"Eid:{eid},Ename:{ename},Email:{email}\")\n",
        "employee(101,\"manish\")"
      ],
      "metadata": {
        "colab": {
          "base_uri": "https://localhost:8080/"
        },
        "id": "AbtPCvIRy4cY",
        "outputId": "6127c957-7c93-46de-cfee-1d83e98fab9a"
      },
      "execution_count": 24,
      "outputs": [
        {
          "output_type": "stream",
          "name": "stdout",
          "text": [
            "Eid:101,Ename:manish,Email:manish@gmail.com\n"
          ]
        }
      ]
    },
    {
      "cell_type": "markdown",
      "source": [
        "**Varible Length Argumet**"
      ],
      "metadata": {
        "id": "DomjWcC3-Ioc"
      }
    },
    {
      "cell_type": "code",
      "source": [
        "def employee(*data):\n",
        "      print(data,type(data) )\n",
        "employee()\n",
        "employee(\"manish\",\"101\",\"manish@gmail.com\")\n"
      ],
      "metadata": {
        "colab": {
          "base_uri": "https://localhost:8080/"
        },
        "id": "sk_F0DGny4fe",
        "outputId": "26f69744-b08c-490e-bf82-273d58f5943b"
      },
      "execution_count": 26,
      "outputs": [
        {
          "output_type": "stream",
          "name": "stdout",
          "text": [
            "() <class 'tuple'>\n",
            "('manish', '101', 'manish@gmail.com') <class 'tuple'>\n"
          ]
        }
      ]
    },
    {
      "cell_type": "markdown",
      "source": [
        "**Keyword varible Argumet**"
      ],
      "metadata": {
        "id": "zlJHbAsF-_k9"
      }
    },
    {
      "cell_type": "code",
      "source": [
        "def employee(**data):\n",
        "      print(data,type(data) )\n",
        "employee(email=\"manish@gmail.com\")\n",
        "employee(eid=101,ename=\"manish\")"
      ],
      "metadata": {
        "colab": {
          "base_uri": "https://localhost:8080/"
        },
        "id": "b9MgmmYg_JHj",
        "outputId": "7a2d1a7b-1525-42d2-94a2-585de231b85b"
      },
      "execution_count": 27,
      "outputs": [
        {
          "output_type": "stream",
          "name": "stdout",
          "text": [
            "{'email': 'manish@gmail.com'} <class 'dict'>\n",
            "{'eid': 101, 'ename': 'manish'} <class 'dict'>\n"
          ]
        }
      ]
    },
    {
      "cell_type": "markdown",
      "source": [
        "**Args and Kwargs**"
      ],
      "metadata": {
        "id": "9821KDGS_nCD"
      }
    },
    {
      "cell_type": "code",
      "source": [
        "def manu(x):\n",
        "  x=x+10\n",
        "  print(\"x value in Function\",x)\n",
        "\n",
        "  # outside\n",
        "num=10\n",
        "manu(num)\n",
        "print(\"outside\",num)\n"
      ],
      "metadata": {
        "colab": {
          "base_uri": "https://localhost:8080/"
        },
        "id": "M3C0CsXz_JKr",
        "outputId": "2efcefc1-8886-41a1-b117-4235f5d812c7"
      },
      "execution_count": 29,
      "outputs": [
        {
          "output_type": "stream",
          "name": "stdout",
          "text": [
            "x value in Function 20\n",
            "outside 10\n"
          ]
        }
      ]
    },
    {
      "cell_type": "markdown",
      "source": [
        "## ** Mutuable data Type:**"
      ],
      "metadata": {
        "id": "hcxGNksQAoFQ"
      }
    },
    {
      "cell_type": "code",
      "source": [
        "# mutuable data type\n",
        "# list\n",
        "# set\n",
        "# dict\n"
      ],
      "metadata": {
        "id": "K0u1mONm_JQA"
      },
      "execution_count": 35,
      "outputs": []
    },
    {
      "cell_type": "code",
      "source": [
        "def manu(mylist):\n",
        "  print(\"Inside fuction \",mylist,type(mylist))\n",
        "  mylist.append(50)\n",
        "  print(\"Inside fuction \",mylist,id(mylist))\n",
        "\n",
        "# out side\n",
        "list1=[10,20,30,40]\n",
        "print(\"original:\",list1, id(list1))\n",
        "manu(list1)\n"
      ],
      "metadata": {
        "colab": {
          "base_uri": "https://localhost:8080/"
        },
        "id": "Xze8T2mN_JSq",
        "outputId": "eea63a75-bbce-4650-fa75-8035c52f4045"
      },
      "execution_count": 37,
      "outputs": [
        {
          "output_type": "stream",
          "name": "stdout",
          "text": [
            "original: [10, 20, 30, 40] 133168537297024\n",
            "Inside fuction  [10, 20, 30, 40] <class 'list'>\n",
            "Inside fuction  [10, 20, 30, 40, 50] 133168537297024\n"
          ]
        }
      ]
    },
    {
      "cell_type": "markdown",
      "source": [
        "**Lambda Function**"
      ],
      "metadata": {
        "id": "SHlF2xHDFjb7"
      }
    },
    {
      "cell_type": "code",
      "source": [
        "# Normal Function and Lambda\n",
        "def square(x):\n",
        "  print(x**2)\n",
        "square(10)\n",
        "# ---------------------------------\n",
        "\n",
        "# Lambda Function\n",
        "Rok=lambda x:x**2\n",
        "Rok(10)"
      ],
      "metadata": {
        "colab": {
          "base_uri": "https://localhost:8080/"
        },
        "id": "Jn8BiwUE_JUt",
        "outputId": "feb7adda-2011-4500-d7bf-48c62b52c644"
      },
      "execution_count": 42,
      "outputs": [
        {
          "output_type": "stream",
          "name": "stdout",
          "text": [
            "100\n"
          ]
        },
        {
          "output_type": "execute_result",
          "data": {
            "text/plain": [
              "100"
            ]
          },
          "metadata": {},
          "execution_count": 42
        }
      ]
    },
    {
      "cell_type": "markdown",
      "source": [
        "**Return Keyword and show Return Value**"
      ],
      "metadata": {
        "id": "GD6gLy7FG5Nm"
      }
    },
    {
      "cell_type": "code",
      "source": [
        "# Return Keyword\n",
        "def mok(x):\n",
        "  print(x+10)\n",
        "x=mok(10)\n",
        "print(x)"
      ],
      "metadata": {
        "colab": {
          "base_uri": "https://localhost:8080/"
        },
        "id": "sRbT6jHz_JW4",
        "outputId": "900ff657-8791-4b25-fada-5ed60722eb33"
      },
      "execution_count": 43,
      "outputs": [
        {
          "output_type": "stream",
          "name": "stdout",
          "text": [
            "20\n",
            "None\n"
          ]
        }
      ]
    },
    {
      "cell_type": "code",
      "source": [
        "# Show Return Value\n",
        "def mok(x):\n",
        "  return x+10\n",
        "x=mok(10)\n",
        "print(x)"
      ],
      "metadata": {
        "colab": {
          "base_uri": "https://localhost:8080/"
        },
        "id": "cl_UooV9_JYj",
        "outputId": "3e232560-3654-4974-f5f5-1b70ea15cf03"
      },
      "execution_count": 44,
      "outputs": [
        {
          "output_type": "stream",
          "name": "stdout",
          "text": [
            "20\n"
          ]
        }
      ]
    },
    {
      "cell_type": "markdown",
      "source": [
        "**Question in Loop in Function**"
      ],
      "metadata": {
        "id": "45y7f5FpIMNq"
      }
    },
    {
      "cell_type": "code",
      "source": [
        "def mini(s):\n",
        "  total=0\n",
        "  for i in s:\n",
        "    total+=i\n",
        "  return total\n",
        "mini([10,20,30,40])"
      ],
      "metadata": {
        "colab": {
          "base_uri": "https://localhost:8080/"
        },
        "id": "xvC3qL60_Jab",
        "outputId": "507c04e3-b745-4679-b712-1ec2db71b8b9"
      },
      "execution_count": 46,
      "outputs": [
        {
          "output_type": "execute_result",
          "data": {
            "text/plain": [
              "100"
            ]
          },
          "metadata": {},
          "execution_count": 46
        }
      ]
    },
    {
      "cell_type": "code",
      "source": [
        "\n",
        "def func(s):\n",
        "  total=0\n",
        "  for i in s:\n",
        "    total+=1\n",
        "    return {s:total}\n",
        "func(\"hey manish\")\n",
        ""
      ],
      "metadata": {
        "colab": {
          "base_uri": "https://localhost:8080/"
        },
        "id": "68rze8k7_JdH",
        "outputId": "ffeea405-5fdd-4f83-b796-d9b0827529a2"
      },
      "execution_count": 52,
      "outputs": [
        {
          "output_type": "execute_result",
          "data": {
            "text/plain": [
              "{'hey manish': 1}"
            ]
          },
          "metadata": {},
          "execution_count": 52
        }
      ]
    },
    {
      "cell_type": "code",
      "source": [],
      "metadata": {
        "id": "yY4LrlRA_JfZ"
      },
      "execution_count": null,
      "outputs": []
    },
    {
      "cell_type": "code",
      "source": [],
      "metadata": {
        "id": "PPaeLGEv_Jis"
      },
      "execution_count": null,
      "outputs": []
    }
  ]
}