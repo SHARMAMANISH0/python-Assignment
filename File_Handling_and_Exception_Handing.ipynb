{
  "nbformat": 4,
  "nbformat_minor": 0,
  "metadata": {
    "colab": {
      "provenance": []
    },
    "kernelspec": {
      "name": "python3",
      "display_name": "Python 3"
    },
    "language_info": {
      "name": "python"
    }
  },
  "cells": [
    {
      "cell_type": "markdown",
      "source": [
        "**File Handing**"
      ],
      "metadata": {
        "id": "D3TWFlDRO1Mg"
      }
    },
    {
      "cell_type": "code",
      "source": [
        "#File open\n",
        "#File read/write\n",
        "#File close"
      ],
      "metadata": {
        "id": "ix7SSzvOO-P8"
      },
      "execution_count": null,
      "outputs": []
    },
    {
      "cell_type": "code",
      "source": [
        "open(\"manish123.txt\")\n"
      ],
      "metadata": {
        "id": "HHYfaMcQXL9V"
      },
      "execution_count": null,
      "outputs": []
    },
    {
      "cell_type": "code",
      "source": [
        "fileobj=open(\"manish123.txt\",\"r\")\n",
        "x=fileobj.read()\n",
        "fileobj.close()\n",
        "fileobj.close()\n",
        "print(x)"
      ],
      "metadata": {
        "id": "AJLkBAlPXX3J"
      },
      "execution_count": null,
      "outputs": []
    },
    {
      "cell_type": "markdown",
      "source": [
        "**method 2 using the with keyword**"
      ],
      "metadata": {
        "id": "7h559_FcW6X_"
      }
    },
    {
      "cell_type": "code",
      "source": [
        "   #  manish123.txt   ## jupyter file ##"
      ],
      "metadata": {
        "id": "2DYhVgvsQkLZ"
      },
      "execution_count": null,
      "outputs": []
    },
    {
      "cell_type": "code",
      "source": [
        "# file open\n",
        "with open (\"manish123.txt\",\"r\")as f:\n",
        "    print(f.read())"
      ],
      "metadata": {
        "id": "4TH1RqKjTqxv"
      },
      "execution_count": 5,
      "outputs": []
    },
    {
      "cell_type": "code",
      "source": [
        "with open (\"manish123.txt\",\"r\")as f:\n",
        "    print(f.readline())"
      ],
      "metadata": {
        "id": "-ilF1VUfTqzd"
      },
      "execution_count": null,
      "outputs": []
    },
    {
      "cell_type": "code",
      "source": [
        "with open (\"manish123.txt\",\"r\")as f:\n",
        "    print(f.readlines())"
      ],
      "metadata": {
        "id": "xPdQIen0Tq2y"
      },
      "execution_count": null,
      "outputs": []
    },
    {
      "cell_type": "markdown",
      "source": [
        "# **Exception Handig**"
      ],
      "metadata": {
        "id": "NkcoeTDRX2up"
      }
    },
    {
      "cell_type": "code",
      "source": [
        "# Exception: unwated condition => progarm terminate or unwated result\n",
        "# Error : exception\n",
        "#  Handle : exception (handle kiya ja skta h )\n",
        "# Exception Handle\n"
      ],
      "metadata": {
        "id": "LMO3RGOKX_9Q"
      },
      "execution_count": null,
      "outputs": []
    },
    {
      "cell_type": "code",
      "source": [
        "# print(\"Hello\") statement ke use varible\n",
        "# print(\"Hello\")\n",
        "# x=10\n",
        "# x/y\n",
        "  #out put  # that Error show\n",
        "# show Error to slove : use to (try) Exception Handing\n"
      ],
      "metadata": {
        "id": "ifHge0R5ZpK3"
      },
      "execution_count": null,
      "outputs": []
    },
    {
      "cell_type": "code",
      "source": [
        "try:\n",
        "    print(\"Hello\")\n",
        "    x=10\n",
        "    x/0\n",
        "    print(\"hey\")\n",
        "except:\n",
        "    print(\"Exception Handle\")"
      ],
      "metadata": {
        "colab": {
          "base_uri": "https://localhost:8080/"
        },
        "id": "VAmeVLZna-i9",
        "outputId": "f0d28449-4391-4c53-c47a-ae488a28d5b1"
      },
      "execution_count": 6,
      "outputs": [
        {
          "output_type": "stream",
          "name": "stdout",
          "text": [
            "Hello\n",
            "Exception Handle\n"
          ]
        }
      ]
    },
    {
      "cell_type": "markdown",
      "source": [
        "**But Why Exception Errror**"
      ],
      "metadata": {
        "id": "0xeHij_qbr8T"
      }
    },
    {
      "cell_type": "code",
      "source": [
        "# python me Exception :\n",
        "\n",
        "# (1)-ZeroDivisionError\n",
        "# (2)-NameError\n",
        "# (3)-IndexError\n",
        "# (4)-TypeErro\n",
        "# (5)-IoError"
      ],
      "metadata": {
        "id": "ZQ5ts7fqb03C"
      },
      "execution_count": null,
      "outputs": []
    },
    {
      "cell_type": "markdown",
      "source": [
        "**ZeroDivisionError and Nameerror**"
      ],
      "metadata": {
        "id": "154LjOTge5ex"
      }
    },
    {
      "cell_type": "code",
      "source": [
        "try:\n",
        "    print(\"Hello\")\n",
        "    x=10\n",
        "    x/0\n",
        "    print(\"hey\")\n",
        "except NameError:                  # One Time One Errror solve\n",
        "   print(\"Exception Handle\")                                # ya use to(2) except:\n",
        "except ZeroDivisionError:\n",
        "    print(\" zeroDivisionerror Exception Handle\")\n"
      ],
      "metadata": {
        "id": "urz204GxcgqH"
      },
      "execution_count": null,
      "outputs": []
    },
    {
      "cell_type": "code",
      "source": [
        "try:\n",
        "    print(\"Hello\")\n",
        "    x=10\n",
        "    x/0\n",
        "    print(\"hey\")\n",
        "except NameError,ZeroDivisionError:                  # One Time One Errror solve\n",
        "   print(\"Exception Handle\")                                # ya use to(2) except:\n",
        "\n"
      ],
      "metadata": {
        "colab": {
          "base_uri": "https://localhost:8080/",
          "height": 106
        },
        "id": "qf1TDiaveguW",
        "outputId": "91495522-b7a6-48f9-b5e2-f23302034f4a"
      },
      "execution_count": 8,
      "outputs": [
        {
          "output_type": "error",
          "ename": "SyntaxError",
          "evalue": "multiple exception types must be parenthesized (<ipython-input-8-925e28cc8246>, line 6)",
          "traceback": [
            "\u001b[0;36m  File \u001b[0;32m\"<ipython-input-8-925e28cc8246>\"\u001b[0;36m, line \u001b[0;32m6\u001b[0m\n\u001b[0;31m    except NameError,ZeroDivisionError:                  # One Time One Errror solve\u001b[0m\n\u001b[0m           ^\u001b[0m\n\u001b[0;31mSyntaxError\u001b[0m\u001b[0;31m:\u001b[0m multiple exception types must be parenthesized\n"
          ]
        }
      ]
    },
    {
      "cell_type": "markdown",
      "source": [
        "**IndexError**"
      ],
      "metadata": {
        "id": "246e4nPtfJoX"
      }
    },
    {
      "cell_type": "code",
      "source": [
        "# show Error\n",
        "try:\n",
        "    print(\"Hello\")\n",
        "    x=10\n",
        "    x/0\n",
        "    print(\"hey\")\n",
        "except NameError:\n",
        "   print(\"Exception Handle\")\n",
        "except ZeroDivisionError:\n",
        "    print(\" zeroDivisionerror Exception Handle\")\n"
      ],
      "metadata": {
        "colab": {
          "base_uri": "https://localhost:8080/"
        },
        "id": "DFRoba9afNUs",
        "outputId": "9ff88650-3bc5-4540-def8-1d48bfb69fb3"
      },
      "execution_count": 7,
      "outputs": [
        {
          "output_type": "stream",
          "name": "stdout",
          "text": [
            "hello\n",
            "Exception Handle: division by zero\n"
          ]
        }
      ]
    },
    {
      "cell_type": "markdown",
      "source": [
        "# **Nested try:**"
      ],
      "metadata": {
        "id": "X5dFmYZmkPaI"
      }
    },
    {
      "cell_type": "code",
      "source": [
        "try:\n",
        "    print(\"Hello\")\n",
        "    try:\n",
        "      x=10\n",
        "      x/0\n",
        "\n",
        "    except :\n",
        "      print(\"x type of error handle\")\n",
        "      print(\"hey\")\n",
        "\n",
        "except (NameError, ZeroDivisionError) as e:\n",
        "    print(\"Exception Handle:\",e)"
      ],
      "metadata": {
        "colab": {
          "base_uri": "https://localhost:8080/"
        },
        "id": "U8U27UCgkNEW",
        "outputId": "02f8d6d7-884a-4f77-a26c-8223149cc47e"
      },
      "execution_count": 9,
      "outputs": [
        {
          "output_type": "stream",
          "name": "stdout",
          "text": [
            "Hello\n",
            "x type of error handle\n",
            "hey\n"
          ]
        }
      ]
    },
    {
      "cell_type": "markdown",
      "source": [
        "### ** Exceptipon Not Error use to (else block)[Agr try: me koe Errror na no to else block me jayga]**"
      ],
      "metadata": {
        "id": "BNTzYye7l-gh"
      }
    },
    {
      "cell_type": "code",
      "source": [
        "try:\n",
        "    print(\"hello\")\n",
        "    print(\"hey\")\n",
        "except:\n",
        "    print(\"Exception Handle\")\n",
        "else:\n",
        "    print(\"No Exception\")"
      ],
      "metadata": {
        "id": "Rg-c3an9mshz"
      },
      "execution_count": null,
      "outputs": []
    },
    {
      "cell_type": "markdown",
      "source": [
        "**Finally block (condition cerficate ho ya no ho )**"
      ],
      "metadata": {
        "id": "NBydGmC8ndtV"
      }
    },
    {
      "cell_type": "code",
      "source": [
        "try:\n",
        "    print(\"hello\")\n",
        "    print(\"hey\")\n",
        "except:\n",
        "    print(\"Exception Handle\")\n",
        "else:\n",
        "    print(\"No Exception\")\n",
        "finally:\n",
        "    print(\"finally block\")"
      ],
      "metadata": {
        "id": "9cxyPoU1obIY"
      },
      "execution_count": null,
      "outputs": []
    },
    {
      "cell_type": "markdown",
      "source": [
        "# ** raise Keywod**"
      ],
      "metadata": {
        "id": "KqsxTt9wov17"
      }
    },
    {
      "cell_type": "code",
      "source": [
        "age = 18\n",
        "try:\n",
        "     if age < 18:\n",
        "        raise  ValueError\n",
        "     else:\n",
        "      print(\"you are eligible\")\n",
        "except ValueError:\n",
        "    print(\"you are not eligible\")"
      ],
      "metadata": {
        "colab": {
          "base_uri": "https://localhost:8080/"
        },
        "id": "cPJZjA0po8RA",
        "outputId": "cdeba82d-69ce-4a3e-ede2-005bcd00d464"
      },
      "execution_count": 10,
      "outputs": [
        {
          "output_type": "stream",
          "name": "stdout",
          "text": [
            "you are eligible\n"
          ]
        }
      ]
    }
  ]
}