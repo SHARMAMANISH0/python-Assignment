{
  "nbformat": 4,
  "nbformat_minor": 0,
  "metadata": {
    "colab": {
      "provenance": []
    },
    "kernelspec": {
      "name": "python3",
      "display_name": "Python 3"
    },
    "language_info": {
      "name": "python"
    }
  },
  "cells": [
    {
      "cell_type": "code",
      "execution_count": null,
      "metadata": {
        "colab": {
          "base_uri": "https://localhost:8080/"
        },
        "id": "l8sON8YkMppp",
        "outputId": "3f7d0019-85df-4b02-a51d-1c4a8a67480c"
      },
      "outputs": [
        {
          "output_type": "stream",
          "name": "stdout",
          "text": [
            "black 4\n"
          ]
        }
      ],
      "source": [
        "class House:\n",
        "  color = \"black\"\n",
        "  rooms=4\n",
        "h1=House()\n",
        "print(h1.color,h1.rooms)"
      ]
    },
    {
      "cell_type": "code",
      "source": [
        "# multipal object use:\n",
        "h2=House()\n",
        "print(h2.rooms)"
      ],
      "metadata": {
        "colab": {
          "base_uri": "https://localhost:8080/"
        },
        "id": "Zv3iFlYsQUpJ",
        "outputId": "c1e8955f-dcfc-45f1-84a8-be8d53ffbb8d"
      },
      "execution_count": null,
      "outputs": [
        {
          "output_type": "stream",
          "name": "stdout",
          "text": [
            "4\n"
          ]
        }
      ]
    },
    {
      "cell_type": "code",
      "source": [
        "# use to function in class\n",
        "class House:\n",
        "  color = \"black\"\n",
        "  rooms=4\n",
        "  def info(self):\n",
        "    print(\"House has\",self.color,self.rooms)\n",
        "h1=House()\n",
        "# h1.info()\n",
        "# new object\n",
        "regex=House()\n",
        "regex.info()\n"
      ],
      "metadata": {
        "colab": {
          "base_uri": "https://localhost:8080/"
        },
        "id": "ERJj9qlfQUrI",
        "outputId": "c9411957-e3a9-48c7-c2c2-5d447460b95b"
      },
      "execution_count": null,
      "outputs": [
        {
          "output_type": "stream",
          "name": "stdout",
          "text": [
            "House has black 4\n"
          ]
        }
      ]
    },
    {
      "cell_type": "code",
      "source": [
        "# use to constructor\n",
        "# one min function initialization memmory in object\n",
        "# ------------------------------------------------------------------------\n",
        "# type of constructor\n",
        "# 1. default constructor\n",
        "# 2. parameterized constructor"
      ],
      "metadata": {
        "id": "I1s0UFGbQUum"
      },
      "execution_count": null,
      "outputs": []
    },
    {
      "cell_type": "code",
      "source": [
        "# syntax of constructor declaration\n",
        "\n",
        " # def__init__(self):\n",
        "           # body of tha constructor"
      ],
      "metadata": {
        "id": "4fkNwXFBQU3Z"
      },
      "execution_count": null,
      "outputs": []
    },
    {
      "cell_type": "code",
      "source": [
        "class GeekforGeeks:\n",
        "\n",
        "    # default constructor\n",
        "    def _init_(self):\n",
        "        self.geek = \"GeekforGeeks\"\n",
        "\n",
        "    # a method for printing data members\n",
        "    def print_Geek(self):\n",
        "        print(self.geek)\n",
        "\n",
        "\n",
        "# creating object of the class\n",
        "obj = GeekforGeeks()\n",
        "\n",
        "# calling the instance method using the object obj\n",
        "obj.print_Geek()"
      ],
      "metadata": {
        "colab": {
          "base_uri": "https://localhost:8080/",
          "height": 297
        },
        "id": "3MVq7XJhb_r2",
        "outputId": "eeb1a2b7-f3a4-49d1-d98e-215ef14af59e"
      },
      "execution_count": null,
      "outputs": [
        {
          "output_type": "error",
          "ename": "AttributeError",
          "evalue": "'GeekforGeeks' object has no attribute 'geek'",
          "traceback": [
            "\u001b[0;31m---------------------------------------------------------------------------\u001b[0m",
            "\u001b[0;31mAttributeError\u001b[0m                            Traceback (most recent call last)",
            "\u001b[0;32m<ipython-input-11-3134013921c4>\u001b[0m in \u001b[0;36m<cell line: 16>\u001b[0;34m()\u001b[0m\n\u001b[1;32m     14\u001b[0m \u001b[0;34m\u001b[0m\u001b[0m\n\u001b[1;32m     15\u001b[0m \u001b[0;31m# calling the instance method using the object obj\u001b[0m\u001b[0;34m\u001b[0m\u001b[0;34m\u001b[0m\u001b[0m\n\u001b[0;32m---> 16\u001b[0;31m \u001b[0mobj\u001b[0m\u001b[0;34m.\u001b[0m\u001b[0mprint_Geek\u001b[0m\u001b[0;34m(\u001b[0m\u001b[0;34m)\u001b[0m\u001b[0;34m\u001b[0m\u001b[0;34m\u001b[0m\u001b[0m\n\u001b[0m",
            "\u001b[0;32m<ipython-input-11-3134013921c4>\u001b[0m in \u001b[0;36mprint_Geek\u001b[0;34m(self)\u001b[0m\n\u001b[1;32m      7\u001b[0m     \u001b[0;31m# a method for printing data members\u001b[0m\u001b[0;34m\u001b[0m\u001b[0;34m\u001b[0m\u001b[0m\n\u001b[1;32m      8\u001b[0m     \u001b[0;32mdef\u001b[0m \u001b[0mprint_Geek\u001b[0m\u001b[0;34m(\u001b[0m\u001b[0mself\u001b[0m\u001b[0;34m)\u001b[0m\u001b[0;34m:\u001b[0m\u001b[0;34m\u001b[0m\u001b[0;34m\u001b[0m\u001b[0m\n\u001b[0;32m----> 9\u001b[0;31m         \u001b[0mprint\u001b[0m\u001b[0;34m(\u001b[0m\u001b[0mself\u001b[0m\u001b[0;34m.\u001b[0m\u001b[0mgeek\u001b[0m\u001b[0;34m)\u001b[0m\u001b[0;34m\u001b[0m\u001b[0;34m\u001b[0m\u001b[0m\n\u001b[0m\u001b[1;32m     10\u001b[0m \u001b[0;34m\u001b[0m\u001b[0m\n\u001b[1;32m     11\u001b[0m \u001b[0;34m\u001b[0m\u001b[0m\n",
            "\u001b[0;31mAttributeError\u001b[0m: 'GeekforGeeks' object has no attribute 'geek'"
          ]
        }
      ]
    },
    {
      "cell_type": "code",
      "source": [
        "class House:\n",
        "  def __init__(self):\n",
        "    print(\"constructor bulaya\")\n",
        "# use to object h1:\n",
        "h1 = House()"
      ],
      "metadata": {
        "colab": {
          "base_uri": "https://localhost:8080/"
        },
        "id": "iiu48iWcb_tc",
        "outputId": "ff939a48-9451-4650-f4de-41683e3f8d61"
      },
      "execution_count": null,
      "outputs": [
        {
          "output_type": "stream",
          "name": "stdout",
          "text": [
            "constructor bulaya\n"
          ]
        }
      ]
    },
    {
      "cell_type": "code",
      "source": [
        "class House:\n",
        "  def __init__(self,x):\n",
        "    print(\"constructor bulaya\",x)\n",
        "# use to object h1:\n",
        "h1 = House(\"yellow\")\n",
        "h2=House(\"red\")"
      ],
      "metadata": {
        "id": "s-1URKJgb_xG",
        "colab": {
          "base_uri": "https://localhost:8080/"
        },
        "outputId": "fd100b13-78f6-497e-d832-7e2ad9618cfd"
      },
      "execution_count": 2,
      "outputs": [
        {
          "output_type": "stream",
          "name": "stdout",
          "text": [
            "constructor bulaya yellow\n",
            "constructor bulaya red\n"
          ]
        }
      ]
    },
    {
      "cell_type": "code",
      "source": [
        "class House:\n",
        "  def __init__(self,x):\n",
        "    self.color=x\n",
        "\n",
        "# use to object h1:\n",
        "h1 = House(\"yellow\")\n",
        "h1.color\n"
      ],
      "metadata": {
        "id": "rfMSQHXgb_1p",
        "colab": {
          "base_uri": "https://localhost:8080/",
          "height": 35
        },
        "outputId": "135f1f77-695b-4016-efd2-0faa4f0290f7"
      },
      "execution_count": 4,
      "outputs": [
        {
          "output_type": "execute_result",
          "data": {
            "text/plain": [
              "'yellow'"
            ],
            "application/vnd.google.colaboratory.intrinsic+json": {
              "type": "string"
            }
          },
          "metadata": {},
          "execution_count": 4
        }
      ]
    },
    {
      "cell_type": "code",
      "source": [
        "regex=House(\"Red\")\n",
        "regex.color"
      ],
      "metadata": {
        "id": "4oQnYgqYb_4i",
        "colab": {
          "base_uri": "https://localhost:8080/",
          "height": 35
        },
        "outputId": "79e9f7b5-fff1-4b82-93e1-bd12d3cd394f"
      },
      "execution_count": 5,
      "outputs": [
        {
          "output_type": "execute_result",
          "data": {
            "text/plain": [
              "'Red'"
            ],
            "application/vnd.google.colaboratory.intrinsic+json": {
              "type": "string"
            }
          },
          "metadata": {},
          "execution_count": 5
        }
      ]
    },
    {
      "cell_type": "code",
      "source": [
        "class House:\n",
        "  def __init__(self,x,y):\n",
        "    self.color=x\n",
        "    self.rooms=y\n",
        "# use to object h1:\n",
        "h1 = House(\"yellow\",10)\n",
        "h1.rooms\n"
      ],
      "metadata": {
        "id": "0rBsXV-ob__T",
        "colab": {
          "base_uri": "https://localhost:8080/"
        },
        "outputId": "85e16bd4-caa6-46a0-d212-ff210b0754af"
      },
      "execution_count": 8,
      "outputs": [
        {
          "output_type": "execute_result",
          "data": {
            "text/plain": [
              "10"
            ]
          },
          "metadata": {},
          "execution_count": 8
        }
      ]
    },
    {
      "cell_type": "code",
      "source": [
        "# Question\n",
        "class House:\n",
        "  def __init__(self,x,y,z):\n",
        "    self.Id=x\n",
        "    self.Name=y\n",
        "    self.Age=z\n",
        "\n",
        "# use to object h1:\n",
        "h1 = House(3,\"manish\",18)\n",
        "\n",
        "h1.Name\n",
        "# h1.Id\n",
        "# h1.Age"
      ],
      "metadata": {
        "id": "XaMFsFVHcABC",
        "colab": {
          "base_uri": "https://localhost:8080/",
          "height": 35
        },
        "outputId": "3206bf77-4d97-4234-f340-873f7f25b76a"
      },
      "execution_count": 12,
      "outputs": [
        {
          "output_type": "execute_result",
          "data": {
            "text/plain": [
              "'manish'"
            ],
            "application/vnd.google.colaboratory.intrinsic+json": {
              "type": "string"
            }
          },
          "metadata": {},
          "execution_count": 12
        }
      ]
    },
    {
      "cell_type": "code",
      "source": [
        "class House:\n",
        "  # self.color,self.room =>instance varible (object se relate kar rha hai)\n",
        "  # function(self, color ,room) => color ,room => Local varible\n",
        "  def __init__(self,color,rooms):\n",
        "    self.color=color\n",
        "    self.rooms=rooms\n",
        "\n",
        "# use to object h1:\n",
        "h1 = House(\"yellow\",10)\n",
        "print(h1.color,h1.rooms)\n"
      ],
      "metadata": {
        "id": "OTgOFDnUcAER",
        "colab": {
          "base_uri": "https://localhost:8080/"
        },
        "outputId": "5df871cd-b3c2-416f-a695-9e0ec72d5b66"
      },
      "execution_count": 13,
      "outputs": [
        {
          "output_type": "stream",
          "name": "stdout",
          "text": [
            "yellow 10\n"
          ]
        }
      ]
    },
    {
      "cell_type": "code",
      "source": [
        "# self ke liye function\n",
        "class House:\n",
        "  def __init__(self,color,rooms):\n",
        "    self.color=color\n",
        "    self.rooms=rooms\n",
        "\n",
        "  def info(self):\n",
        "       print(\"House has\",self.color,self.rooms)\n",
        "# use to object h1:\n",
        "h1 = House(\"yellow\",10)\n",
        "h1.info()\n",
        "# 2nd object\n",
        "h2=House(\"red\",5)\n",
        "h2.info()"
      ],
      "metadata": {
        "id": "m2fnGq-3cAG2",
        "colab": {
          "base_uri": "https://localhost:8080/"
        },
        "outputId": "df9ee966-4d54-4811-95f6-ff08eb928bdb"
      },
      "execution_count": 16,
      "outputs": [
        {
          "output_type": "stream",
          "name": "stdout",
          "text": [
            "House has yellow 10\n",
            "House has red 5\n"
          ]
        }
      ]
    },
    {
      "cell_type": "code",
      "source": [],
      "metadata": {
        "id": "wYpUWBm3cAKt"
      },
      "execution_count": null,
      "outputs": []
    },
    {
      "cell_type": "code",
      "source": [],
      "metadata": {
        "id": "zrDJL8P7cAMU"
      },
      "execution_count": null,
      "outputs": []
    },
    {
      "cell_type": "code",
      "source": [],
      "metadata": {
        "id": "6mXDmgkCcAN1"
      },
      "execution_count": null,
      "outputs": []
    },
    {
      "cell_type": "code",
      "source": [],
      "metadata": {
        "id": "XI61P4_vcAQx"
      },
      "execution_count": null,
      "outputs": []
    }
  ]
}